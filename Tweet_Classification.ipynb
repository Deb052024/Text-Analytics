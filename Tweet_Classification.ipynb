{
  "nbformat": 4,
  "nbformat_minor": 0,
  "metadata": {
    "colab": {
      "provenance": [],
      "authorship_tag": "ABX9TyNsgHZMmWuc9CTy7p8tLn1y",
      "include_colab_link": true
    },
    "kernelspec": {
      "name": "python3",
      "display_name": "Python 3"
    },
    "language_info": {
      "name": "python"
    }
  },
  "cells": [
    {
      "cell_type": "markdown",
      "metadata": {
        "id": "view-in-github",
        "colab_type": "text"
      },
      "source": [
        "<a href=\"https://colab.research.google.com/github/Deb052024/Text-Analytics/blob/main/Tweet_Classification.ipynb\" target=\"_parent\"><img src=\"https://colab.research.google.com/assets/colab-badge.svg\" alt=\"Open In Colab\"/></a>"
      ]
    },
    {
      "cell_type": "code",
      "source": [
        "import pandas as pd\n",
        "import numpy as np\n",
        "import matplotlib.pyplot as plt\n",
        "import seaborn as sns\n",
        "import warnings\n",
        "warnings.filterwarnings('ignore')"
      ],
      "metadata": {
        "id": "-01buGkNk6ue"
      },
      "execution_count": 1,
      "outputs": []
    },
    {
      "cell_type": "code",
      "source": [
        "df=pd.read_csv('/content/twitter_disaster.csv')"
      ],
      "metadata": {
        "id": "pE4G0f5mk6yc"
      },
      "execution_count": 2,
      "outputs": []
    },
    {
      "cell_type": "code",
      "source": [
        "df.describe()"
      ],
      "metadata": {
        "colab": {
          "base_uri": "https://localhost:8080/",
          "height": 300
        },
        "id": "2fFycJSkk621",
        "outputId": "3d97f246-a63f-470c-9b62-a2a0dcd8fc4b"
      },
      "execution_count": 3,
      "outputs": [
        {
          "output_type": "execute_result",
          "data": {
            "text/plain": [
              "                 id      target\n",
              "count   7613.000000  7613.00000\n",
              "mean    5441.934848     0.42966\n",
              "std     3137.116090     0.49506\n",
              "min        1.000000     0.00000\n",
              "25%     2734.000000     0.00000\n",
              "50%     5408.000000     0.00000\n",
              "75%     8146.000000     1.00000\n",
              "max    10873.000000     1.00000"
            ],
            "text/html": [
              "\n",
              "  <div id=\"df-057ff199-70cd-445c-807f-3dcec6b0c9ad\" class=\"colab-df-container\">\n",
              "    <div>\n",
              "<style scoped>\n",
              "    .dataframe tbody tr th:only-of-type {\n",
              "        vertical-align: middle;\n",
              "    }\n",
              "\n",
              "    .dataframe tbody tr th {\n",
              "        vertical-align: top;\n",
              "    }\n",
              "\n",
              "    .dataframe thead th {\n",
              "        text-align: right;\n",
              "    }\n",
              "</style>\n",
              "<table border=\"1\" class=\"dataframe\">\n",
              "  <thead>\n",
              "    <tr style=\"text-align: right;\">\n",
              "      <th></th>\n",
              "      <th>id</th>\n",
              "      <th>target</th>\n",
              "    </tr>\n",
              "  </thead>\n",
              "  <tbody>\n",
              "    <tr>\n",
              "      <th>count</th>\n",
              "      <td>7613.000000</td>\n",
              "      <td>7613.00000</td>\n",
              "    </tr>\n",
              "    <tr>\n",
              "      <th>mean</th>\n",
              "      <td>5441.934848</td>\n",
              "      <td>0.42966</td>\n",
              "    </tr>\n",
              "    <tr>\n",
              "      <th>std</th>\n",
              "      <td>3137.116090</td>\n",
              "      <td>0.49506</td>\n",
              "    </tr>\n",
              "    <tr>\n",
              "      <th>min</th>\n",
              "      <td>1.000000</td>\n",
              "      <td>0.00000</td>\n",
              "    </tr>\n",
              "    <tr>\n",
              "      <th>25%</th>\n",
              "      <td>2734.000000</td>\n",
              "      <td>0.00000</td>\n",
              "    </tr>\n",
              "    <tr>\n",
              "      <th>50%</th>\n",
              "      <td>5408.000000</td>\n",
              "      <td>0.00000</td>\n",
              "    </tr>\n",
              "    <tr>\n",
              "      <th>75%</th>\n",
              "      <td>8146.000000</td>\n",
              "      <td>1.00000</td>\n",
              "    </tr>\n",
              "    <tr>\n",
              "      <th>max</th>\n",
              "      <td>10873.000000</td>\n",
              "      <td>1.00000</td>\n",
              "    </tr>\n",
              "  </tbody>\n",
              "</table>\n",
              "</div>\n",
              "    <div class=\"colab-df-buttons\">\n",
              "\n",
              "  <div class=\"colab-df-container\">\n",
              "    <button class=\"colab-df-convert\" onclick=\"convertToInteractive('df-057ff199-70cd-445c-807f-3dcec6b0c9ad')\"\n",
              "            title=\"Convert this dataframe to an interactive table.\"\n",
              "            style=\"display:none;\">\n",
              "\n",
              "  <svg xmlns=\"http://www.w3.org/2000/svg\" height=\"24px\" viewBox=\"0 -960 960 960\">\n",
              "    <path d=\"M120-120v-720h720v720H120Zm60-500h600v-160H180v160Zm220 220h160v-160H400v160Zm0 220h160v-160H400v160ZM180-400h160v-160H180v160Zm440 0h160v-160H620v160ZM180-180h160v-160H180v160Zm440 0h160v-160H620v160Z\"/>\n",
              "  </svg>\n",
              "    </button>\n",
              "\n",
              "  <style>\n",
              "    .colab-df-container {\n",
              "      display:flex;\n",
              "      gap: 12px;\n",
              "    }\n",
              "\n",
              "    .colab-df-convert {\n",
              "      background-color: #E8F0FE;\n",
              "      border: none;\n",
              "      border-radius: 50%;\n",
              "      cursor: pointer;\n",
              "      display: none;\n",
              "      fill: #1967D2;\n",
              "      height: 32px;\n",
              "      padding: 0 0 0 0;\n",
              "      width: 32px;\n",
              "    }\n",
              "\n",
              "    .colab-df-convert:hover {\n",
              "      background-color: #E2EBFA;\n",
              "      box-shadow: 0px 1px 2px rgba(60, 64, 67, 0.3), 0px 1px 3px 1px rgba(60, 64, 67, 0.15);\n",
              "      fill: #174EA6;\n",
              "    }\n",
              "\n",
              "    .colab-df-buttons div {\n",
              "      margin-bottom: 4px;\n",
              "    }\n",
              "\n",
              "    [theme=dark] .colab-df-convert {\n",
              "      background-color: #3B4455;\n",
              "      fill: #D2E3FC;\n",
              "    }\n",
              "\n",
              "    [theme=dark] .colab-df-convert:hover {\n",
              "      background-color: #434B5C;\n",
              "      box-shadow: 0px 1px 3px 1px rgba(0, 0, 0, 0.15);\n",
              "      filter: drop-shadow(0px 1px 2px rgba(0, 0, 0, 0.3));\n",
              "      fill: #FFFFFF;\n",
              "    }\n",
              "  </style>\n",
              "\n",
              "    <script>\n",
              "      const buttonEl =\n",
              "        document.querySelector('#df-057ff199-70cd-445c-807f-3dcec6b0c9ad button.colab-df-convert');\n",
              "      buttonEl.style.display =\n",
              "        google.colab.kernel.accessAllowed ? 'block' : 'none';\n",
              "\n",
              "      async function convertToInteractive(key) {\n",
              "        const element = document.querySelector('#df-057ff199-70cd-445c-807f-3dcec6b0c9ad');\n",
              "        const dataTable =\n",
              "          await google.colab.kernel.invokeFunction('convertToInteractive',\n",
              "                                                    [key], {});\n",
              "        if (!dataTable) return;\n",
              "\n",
              "        const docLinkHtml = 'Like what you see? Visit the ' +\n",
              "          '<a target=\"_blank\" href=https://colab.research.google.com/notebooks/data_table.ipynb>data table notebook</a>'\n",
              "          + ' to learn more about interactive tables.';\n",
              "        element.innerHTML = '';\n",
              "        dataTable['output_type'] = 'display_data';\n",
              "        await google.colab.output.renderOutput(dataTable, element);\n",
              "        const docLink = document.createElement('div');\n",
              "        docLink.innerHTML = docLinkHtml;\n",
              "        element.appendChild(docLink);\n",
              "      }\n",
              "    </script>\n",
              "  </div>\n",
              "\n",
              "\n",
              "<div id=\"df-7e0c2524-8dfe-452f-bf67-686d7cc9e03a\">\n",
              "  <button class=\"colab-df-quickchart\" onclick=\"quickchart('df-7e0c2524-8dfe-452f-bf67-686d7cc9e03a')\"\n",
              "            title=\"Suggest charts\"\n",
              "            style=\"display:none;\">\n",
              "\n",
              "<svg xmlns=\"http://www.w3.org/2000/svg\" height=\"24px\"viewBox=\"0 0 24 24\"\n",
              "     width=\"24px\">\n",
              "    <g>\n",
              "        <path d=\"M19 3H5c-1.1 0-2 .9-2 2v14c0 1.1.9 2 2 2h14c1.1 0 2-.9 2-2V5c0-1.1-.9-2-2-2zM9 17H7v-7h2v7zm4 0h-2V7h2v10zm4 0h-2v-4h2v4z\"/>\n",
              "    </g>\n",
              "</svg>\n",
              "  </button>\n",
              "\n",
              "<style>\n",
              "  .colab-df-quickchart {\n",
              "      --bg-color: #E8F0FE;\n",
              "      --fill-color: #1967D2;\n",
              "      --hover-bg-color: #E2EBFA;\n",
              "      --hover-fill-color: #174EA6;\n",
              "      --disabled-fill-color: #AAA;\n",
              "      --disabled-bg-color: #DDD;\n",
              "  }\n",
              "\n",
              "  [theme=dark] .colab-df-quickchart {\n",
              "      --bg-color: #3B4455;\n",
              "      --fill-color: #D2E3FC;\n",
              "      --hover-bg-color: #434B5C;\n",
              "      --hover-fill-color: #FFFFFF;\n",
              "      --disabled-bg-color: #3B4455;\n",
              "      --disabled-fill-color: #666;\n",
              "  }\n",
              "\n",
              "  .colab-df-quickchart {\n",
              "    background-color: var(--bg-color);\n",
              "    border: none;\n",
              "    border-radius: 50%;\n",
              "    cursor: pointer;\n",
              "    display: none;\n",
              "    fill: var(--fill-color);\n",
              "    height: 32px;\n",
              "    padding: 0;\n",
              "    width: 32px;\n",
              "  }\n",
              "\n",
              "  .colab-df-quickchart:hover {\n",
              "    background-color: var(--hover-bg-color);\n",
              "    box-shadow: 0 1px 2px rgba(60, 64, 67, 0.3), 0 1px 3px 1px rgba(60, 64, 67, 0.15);\n",
              "    fill: var(--button-hover-fill-color);\n",
              "  }\n",
              "\n",
              "  .colab-df-quickchart-complete:disabled,\n",
              "  .colab-df-quickchart-complete:disabled:hover {\n",
              "    background-color: var(--disabled-bg-color);\n",
              "    fill: var(--disabled-fill-color);\n",
              "    box-shadow: none;\n",
              "  }\n",
              "\n",
              "  .colab-df-spinner {\n",
              "    border: 2px solid var(--fill-color);\n",
              "    border-color: transparent;\n",
              "    border-bottom-color: var(--fill-color);\n",
              "    animation:\n",
              "      spin 1s steps(1) infinite;\n",
              "  }\n",
              "\n",
              "  @keyframes spin {\n",
              "    0% {\n",
              "      border-color: transparent;\n",
              "      border-bottom-color: var(--fill-color);\n",
              "      border-left-color: var(--fill-color);\n",
              "    }\n",
              "    20% {\n",
              "      border-color: transparent;\n",
              "      border-left-color: var(--fill-color);\n",
              "      border-top-color: var(--fill-color);\n",
              "    }\n",
              "    30% {\n",
              "      border-color: transparent;\n",
              "      border-left-color: var(--fill-color);\n",
              "      border-top-color: var(--fill-color);\n",
              "      border-right-color: var(--fill-color);\n",
              "    }\n",
              "    40% {\n",
              "      border-color: transparent;\n",
              "      border-right-color: var(--fill-color);\n",
              "      border-top-color: var(--fill-color);\n",
              "    }\n",
              "    60% {\n",
              "      border-color: transparent;\n",
              "      border-right-color: var(--fill-color);\n",
              "    }\n",
              "    80% {\n",
              "      border-color: transparent;\n",
              "      border-right-color: var(--fill-color);\n",
              "      border-bottom-color: var(--fill-color);\n",
              "    }\n",
              "    90% {\n",
              "      border-color: transparent;\n",
              "      border-bottom-color: var(--fill-color);\n",
              "    }\n",
              "  }\n",
              "</style>\n",
              "\n",
              "  <script>\n",
              "    async function quickchart(key) {\n",
              "      const quickchartButtonEl =\n",
              "        document.querySelector('#' + key + ' button');\n",
              "      quickchartButtonEl.disabled = true;  // To prevent multiple clicks.\n",
              "      quickchartButtonEl.classList.add('colab-df-spinner');\n",
              "      try {\n",
              "        const charts = await google.colab.kernel.invokeFunction(\n",
              "            'suggestCharts', [key], {});\n",
              "      } catch (error) {\n",
              "        console.error('Error during call to suggestCharts:', error);\n",
              "      }\n",
              "      quickchartButtonEl.classList.remove('colab-df-spinner');\n",
              "      quickchartButtonEl.classList.add('colab-df-quickchart-complete');\n",
              "    }\n",
              "    (() => {\n",
              "      let quickchartButtonEl =\n",
              "        document.querySelector('#df-7e0c2524-8dfe-452f-bf67-686d7cc9e03a button');\n",
              "      quickchartButtonEl.style.display =\n",
              "        google.colab.kernel.accessAllowed ? 'block' : 'none';\n",
              "    })();\n",
              "  </script>\n",
              "</div>\n",
              "\n",
              "    </div>\n",
              "  </div>\n"
            ],
            "application/vnd.google.colaboratory.intrinsic+json": {
              "type": "dataframe",
              "summary": "{\n  \"name\": \"df\",\n  \"rows\": 8,\n  \"fields\": [\n    {\n      \"column\": \"id\",\n      \"properties\": {\n        \"dtype\": \"number\",\n        \"std\": 3459.3118775230537,\n        \"min\": 1.0,\n        \"max\": 10873.0,\n        \"num_unique_values\": 8,\n        \"samples\": [\n          5441.934848285827,\n          5408.0,\n          7613.0\n        ],\n        \"semantic_type\": \"\",\n        \"description\": \"\"\n      }\n    },\n    {\n      \"column\": \"target\",\n      \"properties\": {\n        \"dtype\": \"number\",\n        \"std\": 2691.454273978321,\n        \"min\": 0.0,\n        \"max\": 7613.0,\n        \"num_unique_values\": 5,\n        \"samples\": [\n          0.4296597924602653,\n          1.0,\n          0.4950600449341643\n        ],\n        \"semantic_type\": \"\",\n        \"description\": \"\"\n      }\n    }\n  ]\n}"
            }
          },
          "metadata": {},
          "execution_count": 3
        }
      ]
    },
    {
      "cell_type": "code",
      "source": [
        "df.shape"
      ],
      "metadata": {
        "colab": {
          "base_uri": "https://localhost:8080/"
        },
        "id": "gyu4E9OHk67b",
        "outputId": "558c4719-d84b-4ddb-834f-b380ab735f34"
      },
      "execution_count": 4,
      "outputs": [
        {
          "output_type": "execute_result",
          "data": {
            "text/plain": [
              "(7613, 5)"
            ]
          },
          "metadata": {},
          "execution_count": 4
        }
      ]
    },
    {
      "cell_type": "code",
      "source": [
        "df.info()"
      ],
      "metadata": {
        "colab": {
          "base_uri": "https://localhost:8080/"
        },
        "id": "RhUu4I26k6_a",
        "outputId": "7bb04490-5396-431b-a4e9-44bd6f0fd65e"
      },
      "execution_count": 5,
      "outputs": [
        {
          "output_type": "stream",
          "name": "stdout",
          "text": [
            "<class 'pandas.core.frame.DataFrame'>\n",
            "RangeIndex: 7613 entries, 0 to 7612\n",
            "Data columns (total 5 columns):\n",
            " #   Column    Non-Null Count  Dtype \n",
            "---  ------    --------------  ----- \n",
            " 0   id        7613 non-null   int64 \n",
            " 1   keyword   7552 non-null   object\n",
            " 2   location  5080 non-null   object\n",
            " 3   text      7613 non-null   object\n",
            " 4   target    7613 non-null   int64 \n",
            "dtypes: int64(2), object(3)\n",
            "memory usage: 297.5+ KB\n"
          ]
        }
      ]
    },
    {
      "cell_type": "code",
      "execution_count": 6,
      "metadata": {
        "id": "R40L7AWkiLUH"
      },
      "outputs": [],
      "source": [
        "import nltk\n"
      ]
    },
    {
      "cell_type": "code",
      "source": [
        "nltk.download('punkt')"
      ],
      "metadata": {
        "colab": {
          "base_uri": "https://localhost:8080/"
        },
        "id": "bnJVzeezkRxY",
        "outputId": "8eac833d-4d94-46ac-a378-8021d1e547ac"
      },
      "execution_count": 7,
      "outputs": [
        {
          "output_type": "stream",
          "name": "stderr",
          "text": [
            "[nltk_data] Downloading package punkt to /root/nltk_data...\n",
            "[nltk_data]   Unzipping tokenizers/punkt.zip.\n"
          ]
        },
        {
          "output_type": "execute_result",
          "data": {
            "text/plain": [
              "True"
            ]
          },
          "metadata": {},
          "execution_count": 7
        }
      ]
    },
    {
      "cell_type": "code",
      "source": [
        "from nltk import word_tokenize, sent_tokenize"
      ],
      "metadata": {
        "id": "kFN7bAo6kTmO"
      },
      "execution_count": 8,
      "outputs": []
    },
    {
      "cell_type": "code",
      "source": [
        "from nltk.stem import WordNetLemmatizer\n",
        "from nltk.tokenize import word_tokenize\n",
        "\n",
        "nltk.download(\"wordnet\")\n",
        "nltk.download(\"omw-1.4\")"
      ],
      "metadata": {
        "colab": {
          "base_uri": "https://localhost:8080/"
        },
        "id": "tFMOsUKakWyg",
        "outputId": "b67d5bd5-6a63-4ec4-d512-524ed5bba85c"
      },
      "execution_count": 9,
      "outputs": [
        {
          "output_type": "stream",
          "name": "stderr",
          "text": [
            "[nltk_data] Downloading package wordnet to /root/nltk_data...\n",
            "[nltk_data] Downloading package omw-1.4 to /root/nltk_data...\n"
          ]
        },
        {
          "output_type": "execute_result",
          "data": {
            "text/plain": [
              "True"
            ]
          },
          "metadata": {},
          "execution_count": 9
        }
      ]
    },
    {
      "cell_type": "markdown",
      "source": [
        "**Clean text data by removing special characters, URLs, and punctuation**"
      ],
      "metadata": {
        "id": "c6_m9q_a-jnT"
      }
    },
    {
      "cell_type": "code",
      "source": [
        "\n",
        "import re\n",
        "\n",
        "def clean_text(text):\n",
        "    # Remove URLs\n",
        "    text = re.sub(r'http\\S+', '', text)\n",
        "\n",
        "    # Remove special characters and punctuation\n",
        "    text = re.sub(r'[^\\w\\s]', '', text)\n",
        "\n",
        "    return text\n",
        "\n",
        "df['cleaned_text'] = df['text'].apply(clean_text)"
      ],
      "metadata": {
        "id": "l2K61yman189"
      },
      "execution_count": 10,
      "outputs": []
    },
    {
      "cell_type": "code",
      "source": [
        "df['cleaned_text']"
      ],
      "metadata": {
        "colab": {
          "base_uri": "https://localhost:8080/",
          "height": 458
        },
        "id": "v_18S68hn2OV",
        "outputId": "c682598b-d42f-4f94-f2aa-c9ae1ec5d85c"
      },
      "execution_count": 11,
      "outputs": [
        {
          "output_type": "execute_result",
          "data": {
            "text/plain": [
              "0       Our Deeds are the Reason of this earthquake Ma...\n",
              "1                   Forest fire near La Ronge Sask Canada\n",
              "2       All residents asked to shelter in place are be...\n",
              "3       13000 people receive wildfires evacuation orde...\n",
              "4       Just got sent this photo from Ruby Alaska as s...\n",
              "                              ...                        \n",
              "7608    Two giant cranes holding a bridge collapse int...\n",
              "7609    aria_ahrary TheTawniest The out of control wil...\n",
              "7610                M194 0104 UTC5km S of Volcano Hawaii \n",
              "7611    Police investigating after an ebike collided w...\n",
              "7612    The Latest More Homes Razed by Northern Califo...\n",
              "Name: cleaned_text, Length: 7613, dtype: object"
            ],
            "text/html": [
              "<div>\n",
              "<style scoped>\n",
              "    .dataframe tbody tr th:only-of-type {\n",
              "        vertical-align: middle;\n",
              "    }\n",
              "\n",
              "    .dataframe tbody tr th {\n",
              "        vertical-align: top;\n",
              "    }\n",
              "\n",
              "    .dataframe thead th {\n",
              "        text-align: right;\n",
              "    }\n",
              "</style>\n",
              "<table border=\"1\" class=\"dataframe\">\n",
              "  <thead>\n",
              "    <tr style=\"text-align: right;\">\n",
              "      <th></th>\n",
              "      <th>cleaned_text</th>\n",
              "    </tr>\n",
              "  </thead>\n",
              "  <tbody>\n",
              "    <tr>\n",
              "      <th>0</th>\n",
              "      <td>Our Deeds are the Reason of this earthquake Ma...</td>\n",
              "    </tr>\n",
              "    <tr>\n",
              "      <th>1</th>\n",
              "      <td>Forest fire near La Ronge Sask Canada</td>\n",
              "    </tr>\n",
              "    <tr>\n",
              "      <th>2</th>\n",
              "      <td>All residents asked to shelter in place are be...</td>\n",
              "    </tr>\n",
              "    <tr>\n",
              "      <th>3</th>\n",
              "      <td>13000 people receive wildfires evacuation orde...</td>\n",
              "    </tr>\n",
              "    <tr>\n",
              "      <th>4</th>\n",
              "      <td>Just got sent this photo from Ruby Alaska as s...</td>\n",
              "    </tr>\n",
              "    <tr>\n",
              "      <th>...</th>\n",
              "      <td>...</td>\n",
              "    </tr>\n",
              "    <tr>\n",
              "      <th>7608</th>\n",
              "      <td>Two giant cranes holding a bridge collapse int...</td>\n",
              "    </tr>\n",
              "    <tr>\n",
              "      <th>7609</th>\n",
              "      <td>aria_ahrary TheTawniest The out of control wil...</td>\n",
              "    </tr>\n",
              "    <tr>\n",
              "      <th>7610</th>\n",
              "      <td>M194 0104 UTC5km S of Volcano Hawaii</td>\n",
              "    </tr>\n",
              "    <tr>\n",
              "      <th>7611</th>\n",
              "      <td>Police investigating after an ebike collided w...</td>\n",
              "    </tr>\n",
              "    <tr>\n",
              "      <th>7612</th>\n",
              "      <td>The Latest More Homes Razed by Northern Califo...</td>\n",
              "    </tr>\n",
              "  </tbody>\n",
              "</table>\n",
              "<p>7613 rows × 1 columns</p>\n",
              "</div><br><label><b>dtype:</b> object</label>"
            ]
          },
          "metadata": {},
          "execution_count": 11
        }
      ]
    },
    {
      "cell_type": "markdown",
      "source": [
        "**Clean keyword and location column  data by removing special characters, URLs, and punctuation**"
      ],
      "metadata": {
        "id": "kU5mVqDJlXyX"
      }
    },
    {
      "cell_type": "code",
      "source": [
        "\n",
        "\n",
        "import pandas as pd\n",
        "import numpy as np\n",
        "import matplotlib.pyplot as plt\n",
        "import seaborn as sns\n",
        "import warnings\n",
        "import nltk\n",
        "from nltk import word_tokenize, sent_tokenize\n",
        "from nltk.stem import WordNetLemmatizer\n",
        "from nltk.tokenize import word_tokenize\n",
        "import re\n",
        "warnings.filterwarnings('ignore')\n",
        "df=pd.read_csv('/content/twitter_disaster.csv')\n",
        "df.describe()\n",
        "df.shape\n",
        "df.info()\n",
        "nltk.download('punkt')\n",
        "\n",
        "nltk.download(\"wordnet\")\n",
        "nltk.download(\"omw-1.4\")\n",
        "\n",
        "\n",
        "def clean_text(text):\n",
        "    # Remove URLs\n",
        "    text = re.sub(r'http\\S+', '', text)\n",
        "\n",
        "    # Remove special characters and punctuation\n",
        "    text = re.sub(r'[^\\w\\s]', '', text)\n",
        "\n",
        "    return text\n",
        "\n",
        "df['cleaned_text'] = df['text'].apply(clean_text)\n",
        "#df['cleaned_text']\n",
        "\n",
        "#Clean keyword column\n",
        "def clean_keyword(keyword):\n",
        "    if isinstance(keyword, str):\n",
        "        keyword = re.sub(r'http\\S+', '', keyword)\n",
        "        keyword = re.sub(r'[^\\w\\s]', '', keyword)\n",
        "        return keyword\n",
        "    else:\n",
        "        return keyword\n",
        "df['cleaned_keyword'] = df['keyword'].apply(clean_keyword)\n",
        "\n",
        "#Clean location column\n",
        "def clean_location(location):\n",
        "    if isinstance(location, str):\n",
        "        location = re.sub(r'http\\S+', '', location)\n",
        "        location = re.sub(r'[^\\w\\s]', '', location)\n",
        "        return location\n",
        "    else:\n",
        "        return location\n",
        "\n",
        "df['cleaned_location'] = df['location'].apply(clean_location)"
      ],
      "metadata": {
        "colab": {
          "base_uri": "https://localhost:8080/"
        },
        "id": "2RLizDLFn2Q5",
        "outputId": "0f5e6b1b-abbc-42dd-d9ea-b1d8909a3110"
      },
      "execution_count": 12,
      "outputs": [
        {
          "output_type": "stream",
          "name": "stdout",
          "text": [
            "<class 'pandas.core.frame.DataFrame'>\n",
            "RangeIndex: 7613 entries, 0 to 7612\n",
            "Data columns (total 5 columns):\n",
            " #   Column    Non-Null Count  Dtype \n",
            "---  ------    --------------  ----- \n",
            " 0   id        7613 non-null   int64 \n",
            " 1   keyword   7552 non-null   object\n",
            " 2   location  5080 non-null   object\n",
            " 3   text      7613 non-null   object\n",
            " 4   target    7613 non-null   int64 \n",
            "dtypes: int64(2), object(3)\n",
            "memory usage: 297.5+ KB\n"
          ]
        },
        {
          "output_type": "stream",
          "name": "stderr",
          "text": [
            "[nltk_data] Downloading package punkt to /root/nltk_data...\n",
            "[nltk_data]   Package punkt is already up-to-date!\n",
            "[nltk_data] Downloading package wordnet to /root/nltk_data...\n",
            "[nltk_data]   Package wordnet is already up-to-date!\n",
            "[nltk_data] Downloading package omw-1.4 to /root/nltk_data...\n",
            "[nltk_data]   Package omw-1.4 is already up-to-date!\n"
          ]
        }
      ]
    },
    {
      "cell_type": "markdown",
      "source": [
        "**Generate the cleaned data set with keyword,location and text columns along with id,target**"
      ],
      "metadata": {
        "id": "KL_6-cCB0erp"
      }
    },
    {
      "cell_type": "code",
      "source": [
        "\n",
        "\n",
        "import pandas as pd\n",
        "import numpy as np\n",
        "import matplotlib.pyplot as plt\n",
        "import seaborn as sns\n",
        "import warnings\n",
        "import nltk\n",
        "from nltk import word_tokenize, sent_tokenize\n",
        "from nltk.stem import WordNetLemmatizer\n",
        "from nltk.tokenize import word_tokenize\n",
        "import re\n",
        "\n",
        "warnings.filterwarnings('ignore')\n",
        "\n",
        "# Assuming 'twitter_disaster.csv' is in your current working directory or you've mounted your Google Drive and provided correct path\n",
        "df = pd.read_csv('/content/twitter_disaster.csv')\n",
        "\n",
        "# Download required NLTK data\n",
        "nltk.download('punkt')\n",
        "nltk.download(\"wordnet\")\n",
        "nltk.download(\"omw-1.4\")\n",
        "\n",
        "def clean_text(text):\n",
        "    text = re.sub(r'http\\S+', '', str(text))  # Convert to string to handle potential non-string values\n",
        "    text = re.sub(r'[^\\w\\s]', '', text)\n",
        "    return text\n",
        "\n",
        "df['cleaned_text'] = df['text'].apply(clean_text)\n",
        "\n",
        "def clean_keyword(keyword):\n",
        "    if isinstance(keyword, str):\n",
        "        keyword = re.sub(r'http\\S+', '', keyword)\n",
        "        keyword = re.sub(r'[^\\w\\s]', '', keyword)\n",
        "        return keyword\n",
        "    else:\n",
        "        return keyword\n",
        "\n",
        "df['cleaned_keyword'] = df['keyword'].apply(clean_keyword)\n",
        "\n",
        "def clean_location(location):\n",
        "    if isinstance(location, str):\n",
        "        location = re.sub(r'http\\S+', '', location)\n",
        "        location = re.sub(r'[^\\w\\s]', '', location)\n",
        "        return location\n",
        "    else:\n",
        "        return location\n",
        "\n",
        "df['cleaned_location'] = df['location'].apply(clean_location)\n",
        "\n",
        "# Create df1 with specified columns\n",
        "df1 = df[['id', 'target', 'cleaned_keyword', 'cleaned_location', 'cleaned_text']]\n",
        "df1 = df1.rename(columns={'cleaned_keyword': 'keyword', 'cleaned_location': 'location', 'cleaned_text': 'text'})"
      ],
      "metadata": {
        "colab": {
          "base_uri": "https://localhost:8080/"
        },
        "id": "tV6kgKzzn2VY",
        "outputId": "2d601a8b-76b2-48ed-b3ad-5fb4a80a536b"
      },
      "execution_count": 13,
      "outputs": [
        {
          "output_type": "stream",
          "name": "stderr",
          "text": [
            "[nltk_data] Downloading package punkt to /root/nltk_data...\n",
            "[nltk_data]   Package punkt is already up-to-date!\n",
            "[nltk_data] Downloading package wordnet to /root/nltk_data...\n",
            "[nltk_data]   Package wordnet is already up-to-date!\n",
            "[nltk_data] Downloading package omw-1.4 to /root/nltk_data...\n",
            "[nltk_data]   Package omw-1.4 is already up-to-date!\n"
          ]
        }
      ]
    },
    {
      "cell_type": "code",
      "source": [
        "nltk.download('punkt')"
      ],
      "metadata": {
        "colab": {
          "base_uri": "https://localhost:8080/"
        },
        "id": "t_qZY9Bf1v3-",
        "outputId": "a927d62b-a3f8-4b64-dbb4-56d3e5f48ab3"
      },
      "execution_count": 14,
      "outputs": [
        {
          "output_type": "stream",
          "name": "stderr",
          "text": [
            "[nltk_data] Downloading package punkt to /root/nltk_data...\n",
            "[nltk_data]   Package punkt is already up-to-date!\n"
          ]
        },
        {
          "output_type": "execute_result",
          "data": {
            "text/plain": [
              "True"
            ]
          },
          "metadata": {},
          "execution_count": 14
        }
      ]
    },
    {
      "cell_type": "markdown",
      "source": [],
      "metadata": {
        "id": "wY5qg4f91O3p"
      }
    },
    {
      "cell_type": "markdown",
      "source": [
        "**Generate a bar plot of the top 6 most frequent words in keywords with different colors**"
      ],
      "metadata": {
        "id": "smFXyJAn2BAQ"
      }
    },
    {
      "cell_type": "code",
      "source": [
        "\n",
        "\n",
        "nltk.download('punkt_tab')\n",
        "from collections import Counter\n",
        "\n",
        "# Assuming 'df1' is your DataFrame and 'keyword' column exists\n",
        "keywords = df1['keyword'].dropna().astype(str).str.cat(sep=' ')\n",
        "words = nltk.word_tokenize(keywords)\n",
        "word_counts = Counter(words)\n",
        "top_6_words = word_counts.most_common(6)\n",
        "\n",
        "words = [word for word, count in top_6_words]\n",
        "counts = [count for word, count in top_6_words]\n",
        "\n",
        "plt.figure(figsize=(10, 6))\n",
        "bars = plt.bar(words, counts, color=['red', 'green', 'blue', 'orange', 'purple', 'brown'])\n",
        "plt.xlabel('Words')\n",
        "plt.ylabel('Frequency')\n",
        "plt.title('Top 6 Most Frequent Words in Keywords')\n",
        "plt.xticks(rotation=45, ha='right')\n",
        "\n",
        "# Add frequency labels above each bar\n",
        "for bar, count in zip(bars, counts):\n",
        "    height = bar.get_height()\n",
        "    plt.text(bar.get_x() + bar.get_width() / 2, height, count, ha='center', va='bottom')\n",
        "plt.tight_layout()\n",
        "plt.show()"
      ],
      "metadata": {
        "colab": {
          "base_uri": "https://localhost:8080/",
          "height": 642
        },
        "id": "leQ0RyHL2BnY",
        "outputId": "cd2095b1-942f-4c13-8cc8-953773da4dc1"
      },
      "execution_count": 15,
      "outputs": [
        {
          "output_type": "stream",
          "name": "stderr",
          "text": [
            "[nltk_data] Downloading package punkt_tab to /root/nltk_data...\n",
            "[nltk_data]   Unzipping tokenizers/punkt_tab.zip.\n"
          ]
        },
        {
          "output_type": "display_data",
          "data": {
            "text/plain": [
              "<Figure size 1000x600 with 1 Axes>"
            ],
            "image/png": "[encoded data removed]"
          },
          "metadata": {}
        }
      ]
    },
    {
      "cell_type": "code",
      "source": [],
      "metadata": {
        "id": "bu_hKz071seu"
      },
      "execution_count": null,
      "outputs": []
    },
    {
      "cell_type": "code",
      "source": [
        "df1['keyword'].value_counts()"
      ],
      "metadata": {
        "colab": {
          "base_uri": "https://localhost:8080/",
          "height": 490
        },
        "id": "ZYYBO4Ppn2Xd",
        "outputId": "6b55a7eb-d13e-4c17-c768-11bb21f63005"
      },
      "execution_count": 16,
      "outputs": [
        {
          "output_type": "execute_result",
          "data": {
            "text/plain": [
              "keyword\n",
              "fatalities              45\n",
              "deluge                  42\n",
              "armageddon              42\n",
              "sinking                 41\n",
              "damage                  41\n",
              "                        ..\n",
              "forest20fire            19\n",
              "epicentre               12\n",
              "threat                  11\n",
              "inundation              10\n",
              "radiation20emergency     9\n",
              "Name: count, Length: 221, dtype: int64"
            ],
            "text/html": [
              "<div>\n",
              "<style scoped>\n",
              "    .dataframe tbody tr th:only-of-type {\n",
              "        vertical-align: middle;\n",
              "    }\n",
              "\n",
              "    .dataframe tbody tr th {\n",
              "        vertical-align: top;\n",
              "    }\n",
              "\n",
              "    .dataframe thead th {\n",
              "        text-align: right;\n",
              "    }\n",
              "</style>\n",
              "<table border=\"1\" class=\"dataframe\">\n",
              "  <thead>\n",
              "    <tr style=\"text-align: right;\">\n",
              "      <th></th>\n",
              "      <th>count</th>\n",
              "    </tr>\n",
              "    <tr>\n",
              "      <th>keyword</th>\n",
              "      <th></th>\n",
              "    </tr>\n",
              "  </thead>\n",
              "  <tbody>\n",
              "    <tr>\n",
              "      <th>fatalities</th>\n",
              "      <td>45</td>\n",
              "    </tr>\n",
              "    <tr>\n",
              "      <th>deluge</th>\n",
              "      <td>42</td>\n",
              "    </tr>\n",
              "    <tr>\n",
              "      <th>armageddon</th>\n",
              "      <td>42</td>\n",
              "    </tr>\n",
              "    <tr>\n",
              "      <th>sinking</th>\n",
              "      <td>41</td>\n",
              "    </tr>\n",
              "    <tr>\n",
              "      <th>damage</th>\n",
              "      <td>41</td>\n",
              "    </tr>\n",
              "    <tr>\n",
              "      <th>...</th>\n",
              "      <td>...</td>\n",
              "    </tr>\n",
              "    <tr>\n",
              "      <th>forest20fire</th>\n",
              "      <td>19</td>\n",
              "    </tr>\n",
              "    <tr>\n",
              "      <th>epicentre</th>\n",
              "      <td>12</td>\n",
              "    </tr>\n",
              "    <tr>\n",
              "      <th>threat</th>\n",
              "      <td>11</td>\n",
              "    </tr>\n",
              "    <tr>\n",
              "      <th>inundation</th>\n",
              "      <td>10</td>\n",
              "    </tr>\n",
              "    <tr>\n",
              "      <th>radiation20emergency</th>\n",
              "      <td>9</td>\n",
              "    </tr>\n",
              "  </tbody>\n",
              "</table>\n",
              "<p>221 rows × 1 columns</p>\n",
              "</div><br><label><b>dtype:</b> int64</label>"
            ]
          },
          "metadata": {},
          "execution_count": 16
        }
      ]
    },
    {
      "cell_type": "markdown",
      "source": [
        "**Generate a bar plot of the top 6 most frequent words in keywords with different colors for top  6 six locations**"
      ],
      "metadata": {
        "id": "X3DrF2745k8_"
      }
    },
    {
      "cell_type": "code",
      "source": [
        "\n",
        "\n",
        "import matplotlib.pyplot as plt\n",
        "import seaborn as sns\n",
        "from collections import Counter\n",
        "\n",
        "# Assuming df1 is already defined as in your provided code\n",
        "\n",
        "top_locations = df1['location'].value_counts().nlargest(6).index\n",
        "\n",
        "plt.figure(figsize=(12, 6))\n",
        "\n",
        "for i, location in enumerate(top_locations):\n",
        "    keywords = df1[df1['location'] == location]['keyword'].dropna().astype(str).str.cat(sep=' ')\n",
        "    words = nltk.word_tokenize(keywords)\n",
        "    word_counts = Counter(words)\n",
        "    top_6_words = word_counts.most_common(6)\n",
        "    words = [word for word, count in top_6_words]\n",
        "    counts = [count for word, count in top_6_words]\n",
        "\n",
        "    plt.bar(words, counts, label=location, color=plt.cm.get_cmap('tab10')(i))\n",
        "\n",
        "\n",
        "plt.xlabel('Words')\n",
        "plt.ylabel('Frequency')\n",
        "plt.title('Top 6 Most Frequent Words in Keywords for Top 6 Locations')\n",
        "plt.xticks(rotation=45, ha='right')\n",
        "plt.legend()\n",
        "plt.tight_layout()\n",
        "plt.show()"
      ],
      "metadata": {
        "colab": {
          "base_uri": "https://localhost:8080/",
          "height": 607
        },
        "id": "-avVpdS53BQv",
        "outputId": "b7033065-3f18-4ae5-d66d-44d62c38ee1f"
      },
      "execution_count": 17,
      "outputs": [
        {
          "output_type": "display_data",
          "data": {
            "text/plain": [
              "<Figure size 1200x600 with 1 Axes>"
            ],
            "image/png": "[encoded data removed]"
          },
          "metadata": {}
        }
      ]
    },
    {
      "cell_type": "code",
      "source": [
        "df1['location'].value_counts()"
      ],
      "metadata": {
        "colab": {
          "base_uri": "https://localhost:8080/",
          "height": 490
        },
        "id": "H5nGRfjen2ZK",
        "outputId": "4ee557a8-d8ab-42e4-d220-3424e682abd1"
      },
      "execution_count": null,
      "outputs": [
        {
          "output_type": "execute_result",
          "data": {
            "text/plain": [
              "location\n",
              "USA                108\n",
              "New York            71\n",
              "United States       50\n",
              "London              46\n",
              "Washington DC       40\n",
              "                  ... \n",
              "MontrÌal QuÌbec      1\n",
              "Montreal             1\n",
              "ÌÏT 64682318287      1\n",
              "Live4Heed            1\n",
              "Lincoln              1\n",
              "Name: count, Length: 3253, dtype: int64"
            ],
            "text/html": [
              "<div>\n",
              "<style scoped>\n",
              "    .dataframe tbody tr th:only-of-type {\n",
              "        vertical-align: middle;\n",
              "    }\n",
              "\n",
              "    .dataframe tbody tr th {\n",
              "        vertical-align: top;\n",
              "    }\n",
              "\n",
              "    .dataframe thead th {\n",
              "        text-align: right;\n",
              "    }\n",
              "</style>\n",
              "<table border=\"1\" class=\"dataframe\">\n",
              "  <thead>\n",
              "    <tr style=\"text-align: right;\">\n",
              "      <th></th>\n",
              "      <th>count</th>\n",
              "    </tr>\n",
              "    <tr>\n",
              "      <th>location</th>\n",
              "      <th></th>\n",
              "    </tr>\n",
              "  </thead>\n",
              "  <tbody>\n",
              "    <tr>\n",
              "      <th>USA</th>\n",
              "      <td>108</td>\n",
              "    </tr>\n",
              "    <tr>\n",
              "      <th>New York</th>\n",
              "      <td>71</td>\n",
              "    </tr>\n",
              "    <tr>\n",
              "      <th>United States</th>\n",
              "      <td>50</td>\n",
              "    </tr>\n",
              "    <tr>\n",
              "      <th>London</th>\n",
              "      <td>46</td>\n",
              "    </tr>\n",
              "    <tr>\n",
              "      <th>Washington DC</th>\n",
              "      <td>40</td>\n",
              "    </tr>\n",
              "    <tr>\n",
              "      <th>...</th>\n",
              "      <td>...</td>\n",
              "    </tr>\n",
              "    <tr>\n",
              "      <th>MontrÌal QuÌbec</th>\n",
              "      <td>1</td>\n",
              "    </tr>\n",
              "    <tr>\n",
              "      <th>Montreal</th>\n",
              "      <td>1</td>\n",
              "    </tr>\n",
              "    <tr>\n",
              "      <th>ÌÏT 64682318287</th>\n",
              "      <td>1</td>\n",
              "    </tr>\n",
              "    <tr>\n",
              "      <th>Live4Heed</th>\n",
              "      <td>1</td>\n",
              "    </tr>\n",
              "    <tr>\n",
              "      <th>Lincoln</th>\n",
              "      <td>1</td>\n",
              "    </tr>\n",
              "  </tbody>\n",
              "</table>\n",
              "<p>3253 rows × 1 columns</p>\n",
              "</div><br><label><b>dtype:</b> int64</label>"
            ]
          },
          "metadata": {},
          "execution_count": 20
        }
      ]
    },
    {
      "cell_type": "markdown",
      "source": [
        "**Visualize class distributions (disaster vs. non-disaster tweets) using histograms or bar plots**"
      ],
      "metadata": {
        "id": "dvKnTUDGpHah"
      }
    },
    {
      "cell_type": "code",
      "source": [
        "import matplotlib.pyplot as plt\n",
        "import seaborn as sns\n",
        "\n",
        "# Count the occurrences of each class\n",
        "class_counts = df1['target'].value_counts()\n",
        "\n",
        "# Create a bar plot\n",
        "plt.figure(figsize=(8, 6))\n",
        "sns.barplot(x=class_counts.index, y=class_counts.values, palette=['skyblue', 'lightcoral'])\n",
        "plt.title('Class Distribution (Disaster vs. Non-Disaster)')\n",
        "plt.xlabel('Class (0: Non-Disaster, 1: Disaster)')\n",
        "plt.ylabel('Number of Tweets')\n",
        "plt.show()"
      ],
      "metadata": {
        "colab": {
          "base_uri": "https://localhost:8080/",
          "height": 564
        },
        "id": "zSR8ExTikmXq",
        "outputId": "7d50c906-9189-474b-cd02-981d9ac5a913"
      },
      "execution_count": 18,
      "outputs": [
        {
          "output_type": "display_data",
          "data": {
            "text/plain": [
              "<Figure size 800x600 with 1 Axes>"
            ],
            "image/png": "[encoded data removed]"
          },
          "metadata": {}
        }
      ]
    },
    {
      "cell_type": "markdown",
      "source": [],
      "metadata": {
        "id": "4lSio5K8pAWO"
      }
    },
    {
      "cell_type": "code",
      "source": [],
      "metadata": {
        "id": "EYS-hyy3kmi4"
      },
      "execution_count": null,
      "outputs": []
    },
    {
      "cell_type": "code",
      "source": [],
      "metadata": {
        "id": "LMqlZaLQkmnE"
      },
      "execution_count": null,
      "outputs": []
    },
    {
      "cell_type": "markdown",
      "source": [
        "**Key Tasks\n",
        "Part 1: Data Exploration and Preparation**"
      ],
      "metadata": {
        "id": "-BjxEthUmugM"
      }
    },
    {
      "cell_type": "code",
      "source": [
        "nltk.download('punkt')"
      ],
      "metadata": {
        "colab": {
          "base_uri": "https://localhost:8080/"
        },
        "id": "02mW17cms2YX",
        "outputId": "afdb1fac-9b87-46b6-d639-d53889d16e92"
      },
      "execution_count": 19,
      "outputs": [
        {
          "output_type": "stream",
          "name": "stderr",
          "text": [
            "[nltk_data] Downloading package punkt to /root/nltk_data...\n",
            "[nltk_data]   Package punkt is already up-to-date!\n"
          ]
        },
        {
          "output_type": "execute_result",
          "data": {
            "text/plain": [
              "True"
            ]
          },
          "metadata": {},
          "execution_count": 19
        }
      ]
    },
    {
      "cell_type": "code",
      "source": [
        "import nltk\n",
        "\n",
        "# Download the 'punkt_tab' data package\n",
        "nltk.download('punkt_tab')\n",
        "nltk.download('stopwords')\n",
        "# Now, your code should work\n",
        "from nltk import word_tokenize, sent_tokenize"
      ],
      "metadata": {
        "colab": {
          "base_uri": "https://localhost:8080/"
        },
        "id": "4yi_i_OvtQml",
        "outputId": "5081ea65-0c6e-4043-f06c-90e71b38de58"
      },
      "execution_count": 20,
      "outputs": [
        {
          "output_type": "stream",
          "name": "stderr",
          "text": [
            "[nltk_data] Downloading package punkt_tab to /root/nltk_data...\n",
            "[nltk_data]   Package punkt_tab is already up-to-date!\n",
            "[nltk_data] Downloading package stopwords to /root/nltk_data...\n",
            "[nltk_data]   Unzipping corpora/stopwords.zip.\n"
          ]
        }
      ]
    },
    {
      "cell_type": "markdown",
      "source": [
        "**Analyze frequently occurring keywords and phrases in disaster-related tweets**"
      ],
      "metadata": {
        "id": "NmoI35Pf50N2"
      }
    },
    {
      "cell_type": "code",
      "source": [
        "\n",
        "from collections import Counter\n",
        "\n",
        "# Combine all text data for analysis\n",
        "all_text = ' '.join(df1['text'].astype(str))\n",
        "\n",
        "# Tokenize the text\n",
        "tokens = word_tokenize(all_text.lower())\n",
        "\n",
        "# Remove stop words (optional but recommended)\n",
        "from nltk.corpus import stopwords\n",
        "stop_words = set(stopwords.words('english'))\n",
        "tokens = [w for w in tokens if not w in stop_words and w.isalnum()]\n",
        "\n",
        "# Frequency distribution of words\n",
        "word_freq = Counter(tokens)\n",
        "\n",
        "# Print the most common words\n",
        "print(\"Most common words:\")\n",
        "print(word_freq.most_common(20))  # Display the top 20 most frequent words\n",
        "\n",
        "\n",
        "# Analyze frequent phrases (bigrams or trigrams)\n",
        "from nltk import ngrams\n",
        "bigrams = ngrams(tokens, 2)\n",
        "bigram_freq = Counter(bigrams)\n",
        "\n",
        "print(\"\\nMost common bigrams:\")\n",
        "print(bigram_freq.most_common(10)) # Display the top 10 most frequent bigrams\n",
        "\n",
        "trigrams = ngrams(tokens, 3)\n",
        "trigram_freq = Counter(trigrams)\n",
        "print(\"\\nMost common trigrams:\")\n",
        "print(trigram_freq.most_common(10)) # Display the top 10 most frequent trigrams"
      ],
      "metadata": {
        "colab": {
          "base_uri": "https://localhost:8080/"
        },
        "id": "XBoOMRCYmtHm",
        "outputId": "537be557-6c11-42da-86a4-3e18eff6ed10"
      },
      "execution_count": 21,
      "outputs": [
        {
          "output_type": "stream",
          "name": "stdout",
          "text": [
            "Most common words:\n",
            "[('like', 345), ('im', 299), ('amp', 298), ('fire', 250), ('get', 229), ('new', 224), ('via', 220), ('people', 196), ('news', 193), ('one', 192), ('dont', 191), ('video', 165), ('us', 164), ('2', 159), ('emergency', 157), ('disaster', 152), ('police', 140), ('would', 131), ('still', 129), ('body', 124)]\n",
            "\n",
            "Most common bigrams:\n",
            "[(('suicide', 'bomber'), 59), (('burning', 'buildings'), 58), (('gon', 'na'), 43), (('youtube', 'video'), 43), (('liked', 'youtube'), 42), (('northern', 'california'), 41), (('cross', 'body'), 39), (('oil', 'spill'), 39), (('wan', 'na'), 35), (('suicide', 'bombing'), 34)]\n",
            "\n",
            "Most common trigrams:\n",
            "[(('liked', 'youtube', 'video'), 42), (('suicide', 'bomber', 'detonated'), 30), (('northern', 'california', 'wildfire'), 29), (('latest', 'homes', 'razed'), 28), (('homes', 'razed', 'northern'), 28), (('pkk', 'suicide', 'bomber'), 28), (('bomber', 'detonated', 'bomb'), 28), (('razed', 'northern', 'california'), 27), (('16yr', 'old', 'pkk'), 27), (('old', 'pkk', 'suicide'), 27)]\n"
          ]
        }
      ]
    },
    {
      "cell_type": "markdown",
      "source": [
        "**Extract features like TF-IDF scores, and sentiment analysis**"
      ],
      "metadata": {
        "id": "xje2xcZ8-4hn"
      }
    },
    {
      "cell_type": "code",
      "source": [
        "import pandas as pd\n",
        "from sklearn.feature_extraction.text import TfidfVectorizer\n",
        "from textblob import TextBlob\n",
        "\n",
        "# Assuming df1 is already created as in the previous code\n",
        "\n",
        "# TF-IDF\n",
        "vectorizer = TfidfVectorizer(max_features=5000)  # Limit features for demonstration\n",
        "tfidf_matrix = vectorizer.fit_transform(df1['text'].astype(str))  # Convert to string\n",
        "feature_names = vectorizer.get_feature_names_out()\n",
        "\n",
        "# Ensure unique column names for TF-IDF features\n",
        "tfidf_df = pd.DataFrame(tfidf_matrix.toarray(), columns=[f\"tfidf_{name}\" for name in feature_names])\n",
        "df1 = df1.loc[:, ~df1.columns.duplicated()]\n",
        "df1 = pd.concat([df1, tfidf_df], axis=1)\n",
        "\n",
        "\n",
        "# Sentiment Analysis\n",
        "def get_sentiment(text):\n",
        "    analysis = TextBlob(str(text))  # Handle potential non-string values\n",
        "    return analysis.sentiment.polarity\n",
        "\n",
        "df1['sentiment_polarity'] = df1['text'].apply(get_sentiment)\n",
        "\n",
        "print(df1.head())"
      ],
      "metadata": {
        "colab": {
          "base_uri": "https://localhost:8080/"
        },
        "id": "Cp9s5wUQtJdp",
        "outputId": "29dcdc31-3751-4951-ec85-f023707ae463"
      },
      "execution_count": 22,
      "outputs": [
        {
          "output_type": "stream",
          "name": "stdout",
          "text": [
            "   id  target keyword location  \\\n",
            "0   1       1     NaN      NaN   \n",
            "1   4       1     NaN      NaN   \n",
            "2   5       1     NaN      NaN   \n",
            "3   6       1     NaN      NaN   \n",
            "4   7       1     NaN      NaN   \n",
            "\n",
            "                                                text  tfidf_0104  \\\n",
            "0  Our Deeds are the Reason of this earthquake Ma...         0.0   \n",
            "1              Forest fire near La Ronge Sask Canada         0.0   \n",
            "2  All residents asked to shelter in place are be...         0.0   \n",
            "3  13000 people receive wildfires evacuation orde...         0.0   \n",
            "4  Just got sent this photo from Ruby Alaska as s...         0.0   \n",
            "\n",
            "   tfidf_010401  tfidf_02  tfidf_05  tfidf_06  ...  tfidf_ûpolitics  \\\n",
            "0           0.0       0.0       0.0       0.0  ...              0.0   \n",
            "1           0.0       0.0       0.0       0.0  ...              0.0   \n",
            "2           0.0       0.0       0.0       0.0  ...              0.0   \n",
            "3           0.0       0.0       0.0       0.0  ...              0.0   \n",
            "4           0.0       0.0       0.0       0.0  ...              0.0   \n",
            "\n",
            "   tfidf_ûïa  tfidf_ûïhatchet  tfidf_ûïrichmond  tfidf_ûïthe  tfidf_ûïwe  \\\n",
            "0        0.0              0.0               0.0          0.0         0.0   \n",
            "1        0.0              0.0               0.0          0.0         0.0   \n",
            "2        0.0              0.0               0.0          0.0         0.0   \n",
            "3        0.0              0.0               0.0          0.0         0.0   \n",
            "4        0.0              0.0               0.0          0.0         0.0   \n",
            "\n",
            "   tfidf_ûïwhen  tfidf_ûò  tfidf_ûó  sentiment_polarity  \n",
            "0           0.0       0.0       0.0             0.00000  \n",
            "1           0.0       0.0       0.0             0.10000  \n",
            "2           0.0       0.0       0.0            -0.01875  \n",
            "3           0.0       0.0       0.0             0.00000  \n",
            "4           0.0       0.0       0.0             0.00000  \n",
            "\n",
            "[5 rows x 5006 columns]\n"
          ]
        }
      ]
    },
    {
      "cell_type": "markdown",
      "source": [
        "**Leverage pre-trained word embeddings (e.g., Word2Vec, GloVe) for semantic\n",
        "meaning**"
      ],
      "metadata": {
        "id": "5JbDzrJUCbGf"
      }
    },
    {
      "cell_type": "code",
      "source": [
        "!pip install gensim\n",
        "\n",
        "import gensim.downloader as api\n",
        "\n",
        "# Load pre-trained word embeddings (e.g., Word2Vec Google News)\n",
        "try:\n",
        "    model = api.load(\"word2vec-google-news-300\")\n",
        "except Exception as e:\n",
        "    print(f\"Error loading word2vec-google-news-300: {e}\")\n",
        "    print(\"Trying to download a smaller model...\")\n",
        "    try:\n",
        "        model = api.load(\"glove-twitter-25\")\n",
        "    except Exception as e:\n",
        "        print(f\"Error loading glove-twitter-25: {e}\")\n",
        "        print(\"Could not load any word embeddings.\")\n",
        "        model = None\n",
        "\n",
        "\n",
        "if model:\n",
        "    # Example usage: Find similar words\n",
        "    similar_words = model.most_similar(\"disaster\", topn=10)\n",
        "    print(\"Words similar to 'disaster':\", similar_words)\n",
        "\n",
        "    # Example usage: Calculate word similarity\n",
        "    similarity = model.similarity(\"disaster\", \"emergency\")\n",
        "    print(\"Similarity between 'disaster' and 'emergency':\", similarity)\n",
        "\n",
        "\n",
        "    # Integrate with your DataFrame (df1)\n",
        "    def get_word_embedding(text):\n",
        "        tokens = word_tokenize(text.lower())  # Tokenize the text\n",
        "        # Remove words not in vocabulary\n",
        "        tokens = [word for word in tokens if word in model.key_to_index]\n",
        "        if tokens:  # Check if there are any valid tokens\n",
        "          return np.mean(model[tokens], axis=0)\n",
        "        else:\n",
        "          return np.zeros(model.vector_size)  # Return a zero vector if no valid tokens are found\n",
        "\n",
        "    df1['word_embedding'] = df1['text'].apply(get_word_embedding)\n",
        "\n",
        "    print(df1.head())"
      ],
      "metadata": {
        "id": "OjKVhA0HkW4e",
        "colab": {
          "base_uri": "https://localhost:8080/"
        },
        "outputId": "5f46cb90-4811-4788-dc71-f09de4eabd19"
      },
      "execution_count": 23,
      "outputs": [
        {
          "output_type": "stream",
          "name": "stdout",
          "text": [
            "Requirement already satisfied: gensim in /usr/local/lib/python3.10/dist-packages (4.3.3)\n",
            "Requirement already satisfied: numpy<2.0,>=1.18.5 in /usr/local/lib/python3.10/dist-packages (from gensim) (1.26.4)\n",
            "Requirement already satisfied: scipy<1.14.0,>=1.7.0 in /usr/local/lib/python3.10/dist-packages (from gensim) (1.13.1)\n",
            "Requirement already satisfied: smart-open>=1.8.1 in /usr/local/lib/python3.10/dist-packages (from gensim) (7.1.0)\n",
            "Requirement already satisfied: wrapt in /usr/local/lib/python3.10/dist-packages (from smart-open>=1.8.1->gensim) (1.17.0)\n",
            "[==================================================] 100.0% 1662.8/1662.8MB downloaded\n",
            "Words similar to 'disaster': [('disasters', 0.7751654982566833), ('calamity', 0.7409838438034058), ('catastrophe', 0.7316239476203918), ('Disaster', 0.7234424352645874), ('diaster', 0.7086317539215088), ('disater', 0.6191920638084412), ('distaster', 0.5888047218322754), ('tragedy', 0.5871202945709229), ('natural_disasters', 0.5869818329811096), ('catastrophes', 0.5848628282546997)]\n",
            "Similarity between 'disaster' and 'emergency': 0.47155938\n",
            "   id  target keyword location  \\\n",
            "0   1       1     NaN      NaN   \n",
            "1   4       1     NaN      NaN   \n",
            "2   5       1     NaN      NaN   \n",
            "3   6       1     NaN      NaN   \n",
            "4   7       1     NaN      NaN   \n",
            "\n",
            "                                                text  tfidf_0104  \\\n",
            "0  Our Deeds are the Reason of this earthquake Ma...         0.0   \n",
            "1              Forest fire near La Ronge Sask Canada         0.0   \n",
            "2  All residents asked to shelter in place are be...         0.0   \n",
            "3  13000 people receive wildfires evacuation orde...         0.0   \n",
            "4  Just got sent this photo from Ruby Alaska as s...         0.0   \n",
            "\n",
            "   tfidf_010401  tfidf_02  tfidf_05  tfidf_06  ...  tfidf_ûïa  \\\n",
            "0           0.0       0.0       0.0       0.0  ...        0.0   \n",
            "1           0.0       0.0       0.0       0.0  ...        0.0   \n",
            "2           0.0       0.0       0.0       0.0  ...        0.0   \n",
            "3           0.0       0.0       0.0       0.0  ...        0.0   \n",
            "4           0.0       0.0       0.0       0.0  ...        0.0   \n",
            "\n",
            "   tfidf_ûïhatchet  tfidf_ûïrichmond  tfidf_ûïthe  tfidf_ûïwe  tfidf_ûïwhen  \\\n",
            "0              0.0               0.0          0.0         0.0           0.0   \n",
            "1              0.0               0.0          0.0         0.0           0.0   \n",
            "2              0.0               0.0          0.0         0.0           0.0   \n",
            "3              0.0               0.0          0.0         0.0           0.0   \n",
            "4              0.0               0.0          0.0         0.0           0.0   \n",
            "\n",
            "   tfidf_ûò  tfidf_ûó  sentiment_polarity  \\\n",
            "0       0.0       0.0             0.00000   \n",
            "1       0.0       0.0             0.10000   \n",
            "2       0.0       0.0            -0.01875   \n",
            "3       0.0       0.0             0.00000   \n",
            "4       0.0       0.0             0.00000   \n",
            "\n",
            "                                      word_embedding  \n",
            "0  [0.07192993, 0.072657265, 0.11334864, 0.144185...  \n",
            "1  [0.08525391, -0.011193847, 0.0027526855, 0.136...  \n",
            "2  [-0.0104747955, -0.0020635696, 0.088192895, 0....  \n",
            "3  [0.15774973, -0.069492884, 0.024989536, 0.1913...  \n",
            "4  [0.061075848, 0.021800868, -0.027213542, 0.076...  \n",
            "\n",
            "[5 rows x 5007 columns]\n"
          ]
        }
      ]
    },
    {
      "cell_type": "markdown",
      "source": [
        "What is TF-IDF? Term Frequency - Inverse Document Frequency (TF-IDF) is a widely used statistical method in natural language processing and information retrieval. It measures how important a term is within a document relative to a collection of documents.\n",
        "**Incorporate additional features such as tweet length, hashtag presence, or user mentions**"
      ],
      "metadata": {
        "id": "xVHSglO0hqas"
      }
    },
    {
      "cell_type": "code",
      "source": [
        "import pandas as pd\n",
        "import numpy as np\n",
        "# ... (rest of your imports and code)\n",
        "\n",
        "\n",
        "def extract_features(text):\n",
        "    # Tweet length\n",
        "    tweet_length = len(text)\n",
        "\n",
        "    # Hashtag presence\n",
        "    hashtags_present = 1 if '#' in text else 0\n",
        "\n",
        "    # Number of hashtags\n",
        "    num_hashtags = len(re.findall(r'#\\w+', text))\n",
        "\n",
        "    # User mentions\n",
        "    user_mentions_present = 1 if '@' in text else 0\n",
        "    num_mentions = len(re.findall(r'@\\w+', text))\n",
        "\n",
        "    return tweet_length, hashtags_present, num_hashtags, user_mentions_present, num_mentions\n",
        "\n",
        "# Apply feature extraction to each tweet\n",
        "df1[['tweet_length', 'hashtags_present', 'num_hashtags', 'user_mentions_present', 'num_mentions']] = df1['text'].apply(lambda x: pd.Series(extract_features(x)))\n",
        "\n",
        "print(df1.head())"
      ],
      "metadata": {
        "id": "L6S92YsWkW68",
        "colab": {
          "base_uri": "https://localhost:8080/"
        },
        "outputId": "13a81633-b832-4521-b9a9-141502f02652"
      },
      "execution_count": 24,
      "outputs": [
        {
          "output_type": "stream",
          "name": "stdout",
          "text": [
            "   id  target keyword location  \\\n",
            "0   1       1     NaN      NaN   \n",
            "1   4       1     NaN      NaN   \n",
            "2   5       1     NaN      NaN   \n",
            "3   6       1     NaN      NaN   \n",
            "4   7       1     NaN      NaN   \n",
            "\n",
            "                                                text  tfidf_0104  \\\n",
            "0  Our Deeds are the Reason of this earthquake Ma...         0.0   \n",
            "1              Forest fire near La Ronge Sask Canada         0.0   \n",
            "2  All residents asked to shelter in place are be...         0.0   \n",
            "3  13000 people receive wildfires evacuation orde...         0.0   \n",
            "4  Just got sent this photo from Ruby Alaska as s...         0.0   \n",
            "\n",
            "   tfidf_010401  tfidf_02  tfidf_05  tfidf_06  ...  tfidf_ûïwhen  tfidf_ûò  \\\n",
            "0           0.0       0.0       0.0       0.0  ...           0.0       0.0   \n",
            "1           0.0       0.0       0.0       0.0  ...           0.0       0.0   \n",
            "2           0.0       0.0       0.0       0.0  ...           0.0       0.0   \n",
            "3           0.0       0.0       0.0       0.0  ...           0.0       0.0   \n",
            "4           0.0       0.0       0.0       0.0  ...           0.0       0.0   \n",
            "\n",
            "   tfidf_ûó  sentiment_polarity  \\\n",
            "0       0.0             0.00000   \n",
            "1       0.0             0.10000   \n",
            "2       0.0            -0.01875   \n",
            "3       0.0             0.00000   \n",
            "4       0.0             0.00000   \n",
            "\n",
            "                                      word_embedding  tweet_length  \\\n",
            "0  [0.07192993, 0.072657265, 0.11334864, 0.144185...            68   \n",
            "1  [0.08525391, -0.011193847, 0.0027526855, 0.136...            37   \n",
            "2  [-0.0104747955, -0.0020635696, 0.088192895, 0....           130   \n",
            "3  [0.15774973, -0.069492884, 0.024989536, 0.1913...            63   \n",
            "4  [0.061075848, 0.021800868, -0.027213542, 0.076...            86   \n",
            "\n",
            "   hashtags_present  num_hashtags  user_mentions_present  num_mentions  \n",
            "0                 0             0                      0             0  \n",
            "1                 0             0                      0             0  \n",
            "2                 0             0                      0             0  \n",
            "3                 0             0                      0             0  \n",
            "4                 0             0                      0             0  \n",
            "\n",
            "[5 rows x 5012 columns]\n"
          ]
        }
      ]
    },
    {
      "cell_type": "markdown",
      "source": [
        "**Task 2: Model Selection and Training. Evaluate models suitable for text classification,  logistic regression, Train each model on the training data and evaluate performance using cross validation**"
      ],
      "metadata": {
        "id": "eR4b2VaoxRXM"
      }
    },
    {
      "cell_type": "code",
      "source": [
        "from sklearn.model_selection import train_test_split, cross_val_score\n",
        "from sklearn.linear_model import LogisticRegression\n",
        "from sklearn.naive_bayes import MultinomialNB\n",
        "from sklearn.ensemble import RandomForestClassifier\n",
        "from sklearn.metrics import accuracy_score, classification_report\n",
        "from sklearn.feature_extraction.text import TfidfVectorizer\n",
        "\n",
        "# Assuming df1 is your DataFrame with 'text' and 'target' columns\n",
        "X = df1['text']\n",
        "y = df1['target']\n",
        "\n",
        "# Split data into training and testing sets\n",
        "X_train, X_test, y_train, y_test = train_test_split(X, y, test_size=0.2, random_state=42)\n",
        "\n",
        "# TF-IDF vectorization\n",
        "vectorizer = TfidfVectorizer(max_features=5000)\n",
        "X_train_vec = vectorizer.fit_transform(X_train)\n",
        "X_test_vec = vectorizer.transform(X_test)\n",
        "\n",
        "\n",
        "# Model training and evaluation using cross-validation\n",
        "models = {\n",
        "    \"Logistic Regression\": LogisticRegression(),\n",
        "    \"Naive Bayes\": MultinomialNB(),\n",
        "    \"Random Forest\": RandomForestClassifier()\n",
        "}\n",
        "\n",
        "results = {}\n",
        "for name, model in models.items():\n",
        "    cv_scores = cross_val_score(model, X_train_vec, y_train, cv=5, scoring='accuracy')\n",
        "    results[name] = {\n",
        "        \"cv_scores\": cv_scores,\n",
        "        \"cv_mean\": cv_scores.mean(),\n",
        "        \"cv_std\": cv_scores.std()\n",
        "    }\n",
        "    print(f\"Cross Validation Results for {name}: {cv_scores}\")\n",
        "    print(f\"Mean Accuracy for {name}: {cv_scores.mean()}\")\n",
        "    print(f\"Std for {name}: {cv_scores.std()}\")\n",
        "\n",
        "    model.fit(X_train_vec,y_train)\n",
        "    y_pred = model.predict(X_test_vec)\n",
        "    print(f\"Test Accuracy for {name}: {accuracy_score(y_test, y_pred)}\")\n",
        "    print(classification_report(y_test,y_pred))"
      ],
      "metadata": {
        "id": "i-MhYkwSkW9m",
        "colab": {
          "base_uri": "https://localhost:8080/"
        },
        "outputId": "02f94634-b93d-4ee2-ebbe-01a4fbfd0096"
      },
      "execution_count": 26,
      "outputs": [
        {
          "output_type": "stream",
          "name": "stdout",
          "text": [
            "Cross Validation Results for Logistic Regression: [0.80706076 0.80377668 0.81444992 0.77668309 0.80213465]\n",
            "Mean Accuracy for Logistic Regression: 0.8008210180623972\n",
            "Std for Logistic Regression: 0.012788921168223787\n",
            "Test Accuracy for Logistic Regression: 0.8095863427445831\n",
            "              precision    recall  f1-score   support\n",
            "\n",
            "           0       0.80      0.89      0.84       874\n",
            "           1       0.82      0.71      0.76       649\n",
            "\n",
            "    accuracy                           0.81      1523\n",
            "   macro avg       0.81      0.80      0.80      1523\n",
            "weighted avg       0.81      0.81      0.81      1523\n",
            "\n",
            "Cross Validation Results for Naive Bayes: [0.80623974 0.80377668 0.80870279 0.79146141 0.79310345]\n",
            "Mean Accuracy for Naive Bayes: 0.800656814449918\n",
            "Std for Naive Bayes: 0.007032056849052144\n",
            "Test Accuracy for Naive Bayes: 0.8049901510177282\n",
            "              precision    recall  f1-score   support\n",
            "\n",
            "           0       0.78      0.91      0.84       874\n",
            "           1       0.85      0.66      0.74       649\n",
            "\n",
            "    accuracy                           0.80      1523\n",
            "   macro avg       0.82      0.79      0.79      1523\n",
            "weighted avg       0.81      0.80      0.80      1523\n",
            "\n",
            "Cross Validation Results for Random Forest: [0.77996716 0.79720854 0.79885057 0.75533662 0.77093596]\n",
            "Mean Accuracy for Random Forest: 0.7804597701149425\n",
            "Std for Random Forest: 0.016375966258212787\n",
            "Test Accuracy for Random Forest: 0.7879185817465528\n",
            "              precision    recall  f1-score   support\n",
            "\n",
            "           0       0.77      0.90      0.83       874\n",
            "           1       0.82      0.64      0.72       649\n",
            "\n",
            "    accuracy                           0.79      1523\n",
            "   macro avg       0.80      0.77      0.77      1523\n",
            "weighted avg       0.79      0.79      0.78      1523\n",
            "\n"
          ]
        }
      ]
    },
    {
      "cell_type": "markdown",
      "source": [
        "**Assess model performance using metrics such as accuracy, precision, recall, and F1 score**\n",
        "\n",
        "**Visualize results with confusion matrices, ROC curves, and precision-recall plots**\n",
        "\n",
        "**Compare metrics across models to identify the best-performing model**"
      ],
      "metadata": {
        "id": "SbGhEuJAnhnB"
      }
    },
    {
      "cell_type": "code",
      "source": [
        "import pandas as pd\n",
        "import numpy as np\n",
        "import matplotlib.pyplot as plt\n",
        "import seaborn as sns\n",
        "import warnings\n",
        "import nltk\n",
        "from nltk import word_tokenize, sent_tokenize\n",
        "from nltk.stem import WordNetLemmatizer\n",
        "from nltk.tokenize import word_tokenize\n",
        "import re\n",
        "from collections import Counter\n",
        "from nltk.corpus import stopwords\n",
        "from nltk import ngrams\n",
        "from sklearn.feature_extraction.text import TfidfVectorizer\n",
        "from textblob import TextBlob\n",
        "import gensim.downloader as api\n",
        "from sklearn.model_selection import train_test_split, cross_val_score\n",
        "from sklearn.linear_model import LogisticRegression\n",
        "from sklearn.naive_bayes import MultinomialNB\n",
        "from sklearn.ensemble import RandomForestClassifier\n",
        "from sklearn.metrics import accuracy_score, classification_report, confusion_matrix, roc_curve, auc, precision_recall_curve\n",
        "from sklearn.preprocessing import label_binarize # needed for multi-class ROC curve\n",
        "\n",
        "warnings.filterwarnings('ignore')\n",
        "\n",
        "# ... (rest of your code)\n",
        "\n",
        "# Model training and evaluation using cross-validation\n",
        "models = {\n",
        "    \"Naive Bayes\": MultinomialNB(),\n",
        "    \"Random Forest\": RandomForestClassifier()\n",
        "}\n",
        "\n",
        "results = {}\n",
        "for name, model in models.items():\n",
        "    cv_scores = cross_val_score(model, X_train_vec, y_train, cv=5, scoring='accuracy')\n",
        "    results[name] = {\n",
        "        \"cv_scores\": cv_scores,\n",
        "        \"cv_mean\": cv_scores.mean(),\n",
        "        \"cv_std\": cv_scores.std()\n",
        "    }\n",
        "    print(f\"Cross Validation Results for {name}: {cv_scores}\")\n",
        "    print(f\"Mean Accuracy for {name}: {cv_scores.mean()}\")\n",
        "    print(f\"Std for {name}: {cv_scores.std()}\")\n",
        "\n",
        "    model.fit(X_train_vec, y_train)\n",
        "    y_pred = model.predict(X_test_vec)\n",
        "\n",
        "    results[name].update({\n",
        "        \"accuracy\": accuracy_score(y_test, y_pred),\n",
        "        \"classification_report\": classification_report(y_test, y_pred),\n",
        "        \"confusion_matrix\": confusion_matrix(y_test, y_pred)\n",
        "    })\n",
        "\n",
        "    # ROC Curve and AUC\n",
        "    y_prob = model.predict_proba(X_test_vec)[:, 1] # probability for positive class\n",
        "    fpr, tpr, thresholds = roc_curve(y_test, y_prob)\n",
        "    roc_auc = auc(fpr, tpr)\n",
        "    results[name]['roc_auc'] = roc_auc\n",
        "    results[name]['fpr'] = fpr\n",
        "    results[name]['tpr'] = tpr\n",
        "\n",
        "\n",
        "    #Precision Recall Curve\n",
        "    precision, recall, thresholds = precision_recall_curve(y_test,y_prob)\n",
        "    results[name]['precision'] = precision\n",
        "    results[name]['recall'] = recall\n",
        "    print(f\"Test Accuracy for {name}: {accuracy_score(y_test, y_pred)}\")\n",
        "    print(classification_report(y_test,y_pred))\n",
        "\n",
        "\n",
        "#Visualizations\n",
        "for name, metrics in results.items():\n",
        "    print(f\"Results for: {name}\")\n",
        "    print(f\"Accuracy: {metrics['accuracy']}\")\n",
        "    print(f\"Classification Report:\\n{metrics['classification_report']}\")\n",
        "    print(f\"Confusion Matrix:\\n{metrics['confusion_matrix']}\")\n",
        "\n",
        "    plt.figure()\n",
        "    plt.plot(metrics['fpr'],metrics['tpr'], label=f'{name} (AUC = {metrics[\"roc_auc\"]:.2f})')\n",
        "    plt.plot([0,1],[0,1],'k--')\n",
        "    plt.xlabel('False Positive Rate')\n",
        "    plt.ylabel('True Positive Rate')\n",
        "    plt.title(f'ROC Curve for {name}')\n",
        "    plt.legend(loc=\"lower right\")\n",
        "\n",
        "    plt.figure()\n",
        "    plt.plot(metrics[\"recall\"], metrics[\"precision\"], label=name)\n",
        "    plt.xlabel('Recall')\n",
        "    plt.ylabel('Precision')\n",
        "    plt.title(f\"Precision-Recall Curve for {name}\")\n",
        "    plt.legend()\n",
        "\n",
        "plt.show()"
      ],
      "metadata": {
        "id": "OZkowniKkW_f",
        "colab": {
          "base_uri": "https://localhost:8080/",
          "height": 1000
        },
        "outputId": "7a64c134-940b-4d1d-c4cd-5efe1ffe6c5a"
      },
      "execution_count": 28,
      "outputs": [
        {
          "output_type": "stream",
          "name": "stdout",
          "text": [
            "Cross Validation Results for Naive Bayes: [0.80623974 0.80377668 0.80870279 0.79146141 0.79310345]\n",
            "Mean Accuracy for Naive Bayes: 0.800656814449918\n",
            "Std for Naive Bayes: 0.007032056849052144\n",
            "Test Accuracy for Naive Bayes: 0.8049901510177282\n",
            "              precision    recall  f1-score   support\n",
            "\n",
            "           0       0.78      0.91      0.84       874\n",
            "           1       0.85      0.66      0.74       649\n",
            "\n",
            "    accuracy                           0.80      1523\n",
            "   macro avg       0.82      0.79      0.79      1523\n",
            "weighted avg       0.81      0.80      0.80      1523\n",
            "\n",
            "Cross Validation Results for Random Forest: [0.77339901 0.79228243 0.79474548 0.76026273 0.77996716]\n",
            "Mean Accuracy for Random Forest: 0.7801313628899835\n",
            "Std for Random Forest: 0.012659661916188109\n",
            "Test Accuracy for Random Forest: 0.7800393959290873\n",
            "              precision    recall  f1-score   support\n",
            "\n",
            "           0       0.77      0.88      0.82       874\n",
            "           1       0.80      0.64      0.71       649\n",
            "\n",
            "    accuracy                           0.78      1523\n",
            "   macro avg       0.79      0.76      0.77      1523\n",
            "weighted avg       0.78      0.78      0.78      1523\n",
            "\n",
            "Results for: Naive Bayes\n",
            "Accuracy: 0.8049901510177282\n",
            "Classification Report:\n",
            "              precision    recall  f1-score   support\n",
            "\n",
            "           0       0.78      0.91      0.84       874\n",
            "           1       0.85      0.66      0.74       649\n",
            "\n",
            "    accuracy                           0.80      1523\n",
            "   macro avg       0.82      0.79      0.79      1523\n",
            "weighted avg       0.81      0.80      0.80      1523\n",
            "\n",
            "Confusion Matrix:\n",
            "[[799  75]\n",
            " [222 427]]\n",
            "Results for: Random Forest\n",
            "Accuracy: 0.7800393959290873\n",
            "Classification Report:\n",
            "              precision    recall  f1-score   support\n",
            "\n",
            "           0       0.77      0.88      0.82       874\n",
            "           1       0.80      0.64      0.71       649\n",
            "\n",
            "    accuracy                           0.78      1523\n",
            "   macro avg       0.79      0.76      0.77      1523\n",
            "weighted avg       0.78      0.78      0.78      1523\n",
            "\n",
            "Confusion Matrix:\n",
            "[[773 101]\n",
            " [234 415]]\n"
          ]
        },
        {
          "output_type": "display_data",
          "data": {
            "text/plain": [
              "<Figure size 640x480 with 1 Axes>"
            ],
            "image/png": "[encoded data removed]"
          },
          "metadata": {}
        },
        {
          "output_type": "display_data",
          "data": {
            "text/plain": [
              "<Figure size 640x480 with 1 Axes>"
            ],
            "image/png": "[encoded data removed]"
          },
          "metadata": {}
        },
        {
          "output_type": "display_data",
          "data": {
            "text/plain": [
              "<Figure size 640x480 with 1 Axes>"
            ],
            "image/png": "[encoded data removed]"
          },
          "metadata": {}
        },
        {
          "output_type": "display_data",
          "data": {
            "text/plain": [
              "<Figure size 640x480 with 1 Axes>"
            ],
            "image/png": "[encoded data removed]"
          },
          "metadata": {}
        }
      ]
    },
    {
      "cell_type": "markdown",
      "source": [
        "**Evaluate models suitable for text classification using RNN Neural network**"
      ],
      "metadata": {
        "id": "AzlTfBzMyFnA"
      }
    },
    {
      "cell_type": "code",
      "source": [
        "\n",
        "import tensorflow as tf\n",
        "from tensorflow.keras.models import Sequential\n",
        "from tensorflow.keras.layers import Embedding, LSTM, Dense\n",
        "\n",
        "# Assuming X_train_vec, X_test_vec, y_train, y_test are already defined\n",
        "\n",
        "# Define the RNN model\n",
        "model = Sequential()\n",
        "model.add(Embedding(input_dim=X_train_vec.shape[1], output_dim=128))  # Adjust input_dim and output_dim as needed\n",
        "model.add(LSTM(128))\n",
        "model.add(Dense(1, activation='sigmoid'))\n",
        "\n",
        "# Compile the model\n",
        "model.compile(optimizer='adam', loss='binary_crossentropy', metrics=['accuracy'])\n",
        "\n",
        "# Train the model\n",
        "model.fit(X_train_vec.toarray(), y_train, epochs=10, batch_size=32, validation_split=0.2) # Adjust epochs and batch size\n",
        "\n",
        "# Evaluate the model\n",
        "loss, accuracy = model.evaluate(X_test_vec.toarray(), y_test)\n",
        "print(f\"Test Loss: {loss}\")\n",
        "print(f\"Test Accuracy: {accuracy}\")\n",
        "\n",
        "# Make predictions\n",
        "y_pred_prob = model.predict(X_test_vec.toarray())\n",
        "y_pred = (y_pred_prob > 0.5).astype(int) # Convert probabilities to class labels\n",
        "\n",
        "# ... (rest of your evaluation code, e.g., confusion matrix, classification report)\n",
        "from sklearn.metrics import classification_report, confusion_matrix\n",
        "print(classification_report(y_test, y_pred))\n",
        "print(confusion_matrix(y_test, y_pred))"
      ],
      "metadata": {
        "id": "4C5LOOLGkXBD",
        "colab": {
          "base_uri": "https://localhost:8080/"
        },
        "outputId": "e149ada8-67b3-4207-8a06-8ba7d55932d8"
      },
      "execution_count": null,
      "outputs": [
        {
          "output_type": "stream",
          "name": "stdout",
          "text": [
            "Epoch 1/10\n",
            "\u001b[1m153/153\u001b[0m \u001b[32m━━━━━━━━━━━━━━━━━━━━\u001b[0m\u001b[37m\u001b[0m \u001b[1m2077s\u001b[0m 14s/step - accuracy: 0.5697 - loss: 0.6855 - val_accuracy: 0.5616 - val_loss: 0.6859\n",
            "Epoch 2/10\n",
            "\u001b[1m 31/153\u001b[0m \u001b[32m━━━━\u001b[0m\u001b[37m━━━━━━━━━━━━━━━━\u001b[0m \u001b[1m28:42\u001b[0m 14s/step - accuracy: 0.5332 - loss: 0.6941"
          ]
        }
      ]
    },
    {
      "cell_type": "code",
      "source": [],
      "metadata": {
        "id": "9_MpzuwkkXHR"
      },
      "execution_count": null,
      "outputs": []
    }
  ]
}